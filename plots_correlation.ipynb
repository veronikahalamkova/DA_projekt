{
 "metadata": {
  "language_info": {
   "codemirror_mode": {
    "name": "ipython",
    "version": 3
   },
   "file_extension": ".py",
   "mimetype": "text/x-python",
   "name": "python",
   "nbconvert_exporter": "python",
   "pygments_lexer": "ipython3",
   "version": "3.7.1-final"
  },
  "orig_nbformat": 2,
  "kernelspec": {
   "name": "Python 3.7.1 64-bit",
   "display_name": "Python 3.7.1 64-bit",
   "metadata": {
    "interpreter": {
     "hash": "7c85d5d9110782149102d39c24e6fe6c191850ba976f8a03cf14f1a50ebe138c"
    }
   }
  }
 },
 "nbformat": 4,
 "nbformat_minor": 2,
 "cells": [
  {
   "cell_type": "code",
   "execution_count": 47,
   "metadata": {},
   "outputs": [],
   "source": [
    "import pandas as pd\n",
    "import matplotlib\n",
    "import matplotlib.pyplot as plt\n",
    "import numpy as np\n",
    "import os\n",
    "import glob\n",
    "import time\n",
    "import datetime\n",
    "import seaborn as sn\n",
    "import heapq"
   ]
  },
  {
   "cell_type": "code",
   "execution_count": 2,
   "metadata": {},
   "outputs": [],
   "source": [
    "index_choice = 'sp500'"
   ]
  },
  {
   "cell_type": "code",
   "execution_count": 3,
   "metadata": {},
   "outputs": [],
   "source": [
    "SMALL_SIZE = 6\n",
    "MEDIUM_SIZE = 8\n",
    "BIGGER_SIZE = 10\n",
    "\n",
    "plt.rc('font', size=MEDIUM_SIZE)          # controls default text sizes\n",
    "plt.rc('axes', titlesize=BIGGER_SIZE)     # fontsize of the axes title\n",
    "plt.rc('axes', labelsize=MEDIUM_SIZE)    # fontsize of the x and y labels\n",
    "plt.rc('xtick', labelsize=MEDIUM_SIZE)    # fontsize of the tick labels\n",
    "plt.rc('ytick', labelsize=MEDIUM_SIZE)    # fontsize of the tick labels\n",
    "plt.rc('legend', fontsize=MEDIUM_SIZE)    # legend fontsize\n",
    "plt.rc('figure', titlesize=BIGGER_SIZE)"
   ]
  },
  {
   "cell_type": "code",
   "execution_count": 4,
   "metadata": {},
   "outputs": [],
   "source": [
    "file_path = os.path.join(\"temp\",f\"{index_choice}\",f\"{index_choice}_final_smoothed.csv\")\n",
    "final_df = pd.read_csv(file_path)\n",
    "final_df[\"datetime\"] = final_df[\"date\"].apply(lambda s: datetime.datetime.strptime(s, \"%Y-%m-%d\"))"
   ]
  },
  {
   "cell_type": "code",
   "execution_count": 5,
   "metadata": {},
   "outputs": [],
   "source": [
    "def normalize (df):\n",
    "    min = df.min()\n",
    "    max = df.max()\n",
    "    x = df\n",
    "    y = (x-min) / (max-min)\n",
    "    return y"
   ]
  },
  {
   "cell_type": "code",
   "execution_count": 6,
   "metadata": {},
   "outputs": [],
   "source": [
    "industry_choice = [\"Airlines\",\"Internet Retail\", \"Electronic Gaming & Multimedia\"]\n",
    "\n",
    "industry_extract = final_df[final_df[\"industry\"].isin(industry_choice)]\n",
    "\n",
    "industry_extract[\"normalized_open\"]= industry_extract.groupby(\"ticker\")[\"open_x\"].apply(lambda x: normalize (x))\n",
    "\n",
    "industry_extract_grouped = industry_extract.groupby([\"datetime\",\"industry\"]).mean(\"normalized_open\").reset_index()"
   ]
  },
  {
   "cell_type": "code",
   "execution_count": 12,
   "metadata": {},
   "outputs": [
    {
     "output_type": "execute_result",
     "data": {
      "text/plain": [
       "         date     open_x       high        low      close   adjclose  \\\n",
       "0  2019-01-02  31.459999  32.650002  31.049999  32.480000  31.963160   \n",
       "1  2019-01-03  31.690001  31.850000  28.809999  30.059999  29.581665   \n",
       "2  2019-01-04  30.440001  32.090000  30.400000  32.040001  31.530161   \n",
       "3  2019-01-07  31.990000  33.480000  31.240000  32.950001  32.425678   \n",
       "4  2019-01-08  33.360001  33.650002  32.200001  32.419998  31.904110   \n",
       "\n",
       "     volume_x ticker    zip       sector  ...  address2 underlyingSymbol  \\\n",
       "0   5229500.0    AAL  76155  Industrials  ...       NaN              NaN   \n",
       "1  16822000.0    AAL  76155  Industrials  ...       NaN              NaN   \n",
       "2   9369600.0    AAL  76155  Industrials  ...       NaN              NaN   \n",
       "3   8010700.0    AAL  76155  Industrials  ...       NaN              NaN   \n",
       "4   7107700.0    AAL  76155  Industrials  ...       NaN              NaN   \n",
       "\n",
       "  underlyingExchangeSymbol headSymbol uuid   datetime change_open  \\\n",
       "0                      NaN        NaN  NaN 2019-01-02         NaN   \n",
       "1                      NaN        NaN  NaN 2019-01-03    0.007311   \n",
       "2                      NaN        NaN  NaN 2019-01-04   -0.039445   \n",
       "3                      NaN        NaN  NaN 2019-01-07    0.050920   \n",
       "4                      NaN        NaN  NaN 2019-01-08    0.042826   \n",
       "\n",
       "  weekly_rolling_avg_open  monthly_rolling_avg_open normalized_open  \n",
       "0                     NaN                       NaN        0.809201  \n",
       "1               -0.014586                 -0.014586        0.817404  \n",
       "2               -0.018281                 -0.018281        0.772825  \n",
       "3               -0.004125                 -0.004125        0.828103  \n",
       "4                0.004333                  0.004333        0.876961  \n",
       "\n",
       "[5 rows x 141 columns]"
      ],
      "text/html": "<div>\n<style scoped>\n    .dataframe tbody tr th:only-of-type {\n        vertical-align: middle;\n    }\n\n    .dataframe tbody tr th {\n        vertical-align: top;\n    }\n\n    .dataframe thead th {\n        text-align: right;\n    }\n</style>\n<table border=\"1\" class=\"dataframe\">\n  <thead>\n    <tr style=\"text-align: right;\">\n      <th></th>\n      <th>date</th>\n      <th>open_x</th>\n      <th>high</th>\n      <th>low</th>\n      <th>close</th>\n      <th>adjclose</th>\n      <th>volume_x</th>\n      <th>ticker</th>\n      <th>zip</th>\n      <th>sector</th>\n      <th>...</th>\n      <th>address2</th>\n      <th>underlyingSymbol</th>\n      <th>underlyingExchangeSymbol</th>\n      <th>headSymbol</th>\n      <th>uuid</th>\n      <th>datetime</th>\n      <th>change_open</th>\n      <th>weekly_rolling_avg_open</th>\n      <th>monthly_rolling_avg_open</th>\n      <th>normalized_open</th>\n    </tr>\n  </thead>\n  <tbody>\n    <tr>\n      <th>0</th>\n      <td>2019-01-02</td>\n      <td>31.459999</td>\n      <td>32.650002</td>\n      <td>31.049999</td>\n      <td>32.480000</td>\n      <td>31.963160</td>\n      <td>5229500.0</td>\n      <td>AAL</td>\n      <td>76155</td>\n      <td>Industrials</td>\n      <td>...</td>\n      <td>NaN</td>\n      <td>NaN</td>\n      <td>NaN</td>\n      <td>NaN</td>\n      <td>NaN</td>\n      <td>2019-01-02</td>\n      <td>NaN</td>\n      <td>NaN</td>\n      <td>NaN</td>\n      <td>0.809201</td>\n    </tr>\n    <tr>\n      <th>1</th>\n      <td>2019-01-03</td>\n      <td>31.690001</td>\n      <td>31.850000</td>\n      <td>28.809999</td>\n      <td>30.059999</td>\n      <td>29.581665</td>\n      <td>16822000.0</td>\n      <td>AAL</td>\n      <td>76155</td>\n      <td>Industrials</td>\n      <td>...</td>\n      <td>NaN</td>\n      <td>NaN</td>\n      <td>NaN</td>\n      <td>NaN</td>\n      <td>NaN</td>\n      <td>2019-01-03</td>\n      <td>0.007311</td>\n      <td>-0.014586</td>\n      <td>-0.014586</td>\n      <td>0.817404</td>\n    </tr>\n    <tr>\n      <th>2</th>\n      <td>2019-01-04</td>\n      <td>30.440001</td>\n      <td>32.090000</td>\n      <td>30.400000</td>\n      <td>32.040001</td>\n      <td>31.530161</td>\n      <td>9369600.0</td>\n      <td>AAL</td>\n      <td>76155</td>\n      <td>Industrials</td>\n      <td>...</td>\n      <td>NaN</td>\n      <td>NaN</td>\n      <td>NaN</td>\n      <td>NaN</td>\n      <td>NaN</td>\n      <td>2019-01-04</td>\n      <td>-0.039445</td>\n      <td>-0.018281</td>\n      <td>-0.018281</td>\n      <td>0.772825</td>\n    </tr>\n    <tr>\n      <th>3</th>\n      <td>2019-01-07</td>\n      <td>31.990000</td>\n      <td>33.480000</td>\n      <td>31.240000</td>\n      <td>32.950001</td>\n      <td>32.425678</td>\n      <td>8010700.0</td>\n      <td>AAL</td>\n      <td>76155</td>\n      <td>Industrials</td>\n      <td>...</td>\n      <td>NaN</td>\n      <td>NaN</td>\n      <td>NaN</td>\n      <td>NaN</td>\n      <td>NaN</td>\n      <td>2019-01-07</td>\n      <td>0.050920</td>\n      <td>-0.004125</td>\n      <td>-0.004125</td>\n      <td>0.828103</td>\n    </tr>\n    <tr>\n      <th>4</th>\n      <td>2019-01-08</td>\n      <td>33.360001</td>\n      <td>33.650002</td>\n      <td>32.200001</td>\n      <td>32.419998</td>\n      <td>31.904110</td>\n      <td>7107700.0</td>\n      <td>AAL</td>\n      <td>76155</td>\n      <td>Industrials</td>\n      <td>...</td>\n      <td>NaN</td>\n      <td>NaN</td>\n      <td>NaN</td>\n      <td>NaN</td>\n      <td>NaN</td>\n      <td>2019-01-08</td>\n      <td>0.042826</td>\n      <td>0.004333</td>\n      <td>0.004333</td>\n      <td>0.876961</td>\n    </tr>\n  </tbody>\n</table>\n<p>5 rows × 141 columns</p>\n</div>"
     },
     "metadata": {},
     "execution_count": 12
    }
   ],
   "source": [
    "final_df[\"normalized_open\"]= final_df.groupby(\"ticker\")[\"open_x\"].apply(lambda x: normalize (x))\n",
    "\n",
    "final_df[\"change_open\"]= (final_df.groupby(\"ticker\")[\"open_x\"].apply(pd.Series.pct_change))\n",
    "\n",
    "window_size= 7\n",
    "final_df[\"weekly_rolling_avg_open\"]= final_df.groupby(\"ticker\").rolling(window=window_size, min_periods= 1)['change_open'].mean().reset_index(drop=True)\n",
    "\n",
    "window_size= 30\n",
    "final_df[\"monthly_rolling_avg_open\"]= final_df.groupby(\"ticker\").rolling(window=window_size, min_periods= 1)['change_open'].mean().reset_index(drop=True)\n",
    "\n",
    "open_by_stock = final_df.pivot(index=\"datetime\", columns=\"ticker\", values=\"normalized_open\")\n",
    "\n",
    "final_df.head()"
   ]
  },
  {
   "cell_type": "code",
   "execution_count": 19,
   "metadata": {},
   "outputs": [
    {
     "output_type": "execute_result",
     "data": {
      "text/plain": [
       "            date_x      open_x        high         low       close  \\\n",
       "219966  2020-09-02  162.100006  165.820007  161.820007  165.330002   \n",
       "219967  2020-09-03  165.279999  165.520004  157.369995  158.800003   \n",
       "219968  2020-09-04  159.160004  160.210007  155.289993  157.240005   \n",
       "219969  2020-09-08  156.229996  156.270004  152.500000  153.509995   \n",
       "219970  2020-09-09  155.199997  160.699997  155.199997  158.910004   \n",
       "219971  2020-09-10  158.899994  161.520004  157.210007  158.100006   \n",
       "219972  2020-09-11  159.000000  159.619995  157.850006  158.589996   \n",
       "219973  2020-09-14  159.940002  161.970001  159.610001  160.860001   \n",
       "219974  2020-09-15  162.250000  163.910004  161.699997  162.279999   \n",
       "219975  2020-09-16  163.520004  163.990005  161.130005  161.250000   \n",
       "219976  2020-09-17  160.419998  160.509995  158.000000  160.470001   \n",
       "219977  2020-09-18  160.110001  161.970001  159.119995  160.869995   \n",
       "219978  2020-09-21  159.339996  161.070007  157.419998  160.970001   \n",
       "219979  2020-09-22  160.350006  162.479996  160.100006  161.509995   \n",
       "219980  2020-09-23  161.970001  162.669998  159.119995  159.330002   \n",
       "219981  2020-09-24  158.839996  159.509995  156.529999  157.979996   \n",
       "219982  2020-09-25  157.429993  161.460007  157.250000  160.839996   \n",
       "219983  2020-09-28  162.160004  164.339996  161.160004  161.320007   \n",
       "219984  2020-09-29  161.619995  163.410004  161.440002  162.479996   \n",
       "219985  2020-09-30  162.919998  166.789993  162.750000  165.369995   \n",
       "\n",
       "          adjclose   volume_x ticker    zip      sector  ...  \\\n",
       "219966  165.123322  1790200.0    ZTS  07054  Healthcare  ...   \n",
       "219967  158.601486  1794100.0    ZTS  07054  Healthcare  ...   \n",
       "219968  157.043442  1552500.0    ZTS  07054  Healthcare  ...   \n",
       "219969  153.318100  1829100.0    ZTS  07054  Healthcare  ...   \n",
       "219970  158.711349  1408600.0    ZTS  07054  Healthcare  ...   \n",
       "219971  157.902374  1356800.0    ZTS  07054  Healthcare  ...   \n",
       "219972  158.391739   854100.0    ZTS  07054  Healthcare  ...   \n",
       "219973  160.658905  2092000.0    ZTS  07054  Healthcare  ...   \n",
       "219974  162.077133  1039900.0    ZTS  07054  Healthcare  ...   \n",
       "219975  161.048416  1721200.0    ZTS  07054  Healthcare  ...   \n",
       "219976  160.269394  1258100.0    ZTS  07054  Healthcare  ...   \n",
       "219977  160.668900  2518700.0    ZTS  07054  Healthcare  ...   \n",
       "219978  160.768768  1170000.0    ZTS  07054  Healthcare  ...   \n",
       "219979  161.308090  1545000.0    ZTS  07054  Healthcare  ...   \n",
       "219980  159.130829  1301200.0    ZTS  07054  Healthcare  ...   \n",
       "219981  157.782501  1415600.0    ZTS  07054  Healthcare  ...   \n",
       "219982  160.638931  1195900.0    ZTS  07054  Healthcare  ...   \n",
       "219983  161.118347  2293800.0    ZTS  07054  Healthcare  ...   \n",
       "219984  162.276886  1046300.0    ZTS  07054  Healthcare  ...   \n",
       "219985  165.163269  1906700.0    ZTS  07054  Healthcare  ...   \n",
       "\n",
       "        cardiovasc_death_rate diabetes_prevalence female_smokers male_smokers  \\\n",
       "219966                151.089               10.79           19.1         24.6   \n",
       "219967                151.089               10.79           19.1         24.6   \n",
       "219968                151.089               10.79           19.1         24.6   \n",
       "219969                151.089               10.79           19.1         24.6   \n",
       "219970                151.089               10.79           19.1         24.6   \n",
       "219971                151.089               10.79           19.1         24.6   \n",
       "219972                151.089               10.79           19.1         24.6   \n",
       "219973                151.089               10.79           19.1         24.6   \n",
       "219974                151.089               10.79           19.1         24.6   \n",
       "219975                151.089               10.79           19.1         24.6   \n",
       "219976                151.089               10.79           19.1         24.6   \n",
       "219977                151.089               10.79           19.1         24.6   \n",
       "219978                151.089               10.79           19.1         24.6   \n",
       "219979                151.089               10.79           19.1         24.6   \n",
       "219980                151.089               10.79           19.1         24.6   \n",
       "219981                151.089               10.79           19.1         24.6   \n",
       "219982                151.089               10.79           19.1         24.6   \n",
       "219983                151.089               10.79           19.1         24.6   \n",
       "219984                151.089               10.79           19.1         24.6   \n",
       "219985                151.089               10.79           19.1         24.6   \n",
       "\n",
       "       handwashing_facilities hospital_beds_per_thousand life_expectancy  \\\n",
       "219966                    NaN                       2.77           78.86   \n",
       "219967                    NaN                       2.77           78.86   \n",
       "219968                    NaN                       2.77           78.86   \n",
       "219969                    NaN                       2.77           78.86   \n",
       "219970                    NaN                       2.77           78.86   \n",
       "219971                    NaN                       2.77           78.86   \n",
       "219972                    NaN                       2.77           78.86   \n",
       "219973                    NaN                       2.77           78.86   \n",
       "219974                    NaN                       2.77           78.86   \n",
       "219975                    NaN                       2.77           78.86   \n",
       "219976                    NaN                       2.77           78.86   \n",
       "219977                    NaN                       2.77           78.86   \n",
       "219978                    NaN                       2.77           78.86   \n",
       "219979                    NaN                       2.77           78.86   \n",
       "219980                    NaN                       2.77           78.86   \n",
       "219981                    NaN                       2.77           78.86   \n",
       "219982                    NaN                       2.77           78.86   \n",
       "219983                    NaN                       2.77           78.86   \n",
       "219984                    NaN                       2.77           78.86   \n",
       "219985                    NaN                       2.77           78.86   \n",
       "\n",
       "       human_development_index  change_new_cases rolling_avg_new_cases  \n",
       "219966                   0.924          0.318730              0.034600  \n",
       "219967                   0.924         -0.131835             -0.001956  \n",
       "219968                   0.924         -0.064638             -0.021395  \n",
       "219969                   0.924         -0.206349             -0.016955  \n",
       "219970                   0.924          0.118433             -0.045569  \n",
       "219971                   0.924          0.177162             -0.001426  \n",
       "219972                   0.924          0.174774              0.032776  \n",
       "219973                   0.924         -0.170235              0.032073  \n",
       "219974                   0.924          0.028638              0.065642  \n",
       "219975                   0.924          0.477369              0.116919  \n",
       "219976                   0.924         -0.522118              0.017022  \n",
       "219977                   0.924          0.771160              0.102220  \n",
       "219978                   0.924         -0.010994              0.099865  \n",
       "219979                   0.924          0.333760              0.143454  \n",
       "219980                   0.924         -0.279307              0.035357  \n",
       "219981                   0.924         -0.009842              0.108540  \n",
       "219982                   0.924          0.165647              0.022038  \n",
       "219983                   0.924         -0.201023              0.011169  \n",
       "219984                   0.924         -0.089660             -0.049319  \n",
       "219985                   0.924          0.303624              0.033957  \n",
       "\n",
       "[20 rows x 184 columns]"
      ],
      "text/html": "<div>\n<style scoped>\n    .dataframe tbody tr th:only-of-type {\n        vertical-align: middle;\n    }\n\n    .dataframe tbody tr th {\n        vertical-align: top;\n    }\n\n    .dataframe thead th {\n        text-align: right;\n    }\n</style>\n<table border=\"1\" class=\"dataframe\">\n  <thead>\n    <tr style=\"text-align: right;\">\n      <th></th>\n      <th>date_x</th>\n      <th>open_x</th>\n      <th>high</th>\n      <th>low</th>\n      <th>close</th>\n      <th>adjclose</th>\n      <th>volume_x</th>\n      <th>ticker</th>\n      <th>zip</th>\n      <th>sector</th>\n      <th>...</th>\n      <th>cardiovasc_death_rate</th>\n      <th>diabetes_prevalence</th>\n      <th>female_smokers</th>\n      <th>male_smokers</th>\n      <th>handwashing_facilities</th>\n      <th>hospital_beds_per_thousand</th>\n      <th>life_expectancy</th>\n      <th>human_development_index</th>\n      <th>change_new_cases</th>\n      <th>rolling_avg_new_cases</th>\n    </tr>\n  </thead>\n  <tbody>\n    <tr>\n      <th>219966</th>\n      <td>2020-09-02</td>\n      <td>162.100006</td>\n      <td>165.820007</td>\n      <td>161.820007</td>\n      <td>165.330002</td>\n      <td>165.123322</td>\n      <td>1790200.0</td>\n      <td>ZTS</td>\n      <td>07054</td>\n      <td>Healthcare</td>\n      <td>...</td>\n      <td>151.089</td>\n      <td>10.79</td>\n      <td>19.1</td>\n      <td>24.6</td>\n      <td>NaN</td>\n      <td>2.77</td>\n      <td>78.86</td>\n      <td>0.924</td>\n      <td>0.318730</td>\n      <td>0.034600</td>\n    </tr>\n    <tr>\n      <th>219967</th>\n      <td>2020-09-03</td>\n      <td>165.279999</td>\n      <td>165.520004</td>\n      <td>157.369995</td>\n      <td>158.800003</td>\n      <td>158.601486</td>\n      <td>1794100.0</td>\n      <td>ZTS</td>\n      <td>07054</td>\n      <td>Healthcare</td>\n      <td>...</td>\n      <td>151.089</td>\n      <td>10.79</td>\n      <td>19.1</td>\n      <td>24.6</td>\n      <td>NaN</td>\n      <td>2.77</td>\n      <td>78.86</td>\n      <td>0.924</td>\n      <td>-0.131835</td>\n      <td>-0.001956</td>\n    </tr>\n    <tr>\n      <th>219968</th>\n      <td>2020-09-04</td>\n      <td>159.160004</td>\n      <td>160.210007</td>\n      <td>155.289993</td>\n      <td>157.240005</td>\n      <td>157.043442</td>\n      <td>1552500.0</td>\n      <td>ZTS</td>\n      <td>07054</td>\n      <td>Healthcare</td>\n      <td>...</td>\n      <td>151.089</td>\n      <td>10.79</td>\n      <td>19.1</td>\n      <td>24.6</td>\n      <td>NaN</td>\n      <td>2.77</td>\n      <td>78.86</td>\n      <td>0.924</td>\n      <td>-0.064638</td>\n      <td>-0.021395</td>\n    </tr>\n    <tr>\n      <th>219969</th>\n      <td>2020-09-08</td>\n      <td>156.229996</td>\n      <td>156.270004</td>\n      <td>152.500000</td>\n      <td>153.509995</td>\n      <td>153.318100</td>\n      <td>1829100.0</td>\n      <td>ZTS</td>\n      <td>07054</td>\n      <td>Healthcare</td>\n      <td>...</td>\n      <td>151.089</td>\n      <td>10.79</td>\n      <td>19.1</td>\n      <td>24.6</td>\n      <td>NaN</td>\n      <td>2.77</td>\n      <td>78.86</td>\n      <td>0.924</td>\n      <td>-0.206349</td>\n      <td>-0.016955</td>\n    </tr>\n    <tr>\n      <th>219970</th>\n      <td>2020-09-09</td>\n      <td>155.199997</td>\n      <td>160.699997</td>\n      <td>155.199997</td>\n      <td>158.910004</td>\n      <td>158.711349</td>\n      <td>1408600.0</td>\n      <td>ZTS</td>\n      <td>07054</td>\n      <td>Healthcare</td>\n      <td>...</td>\n      <td>151.089</td>\n      <td>10.79</td>\n      <td>19.1</td>\n      <td>24.6</td>\n      <td>NaN</td>\n      <td>2.77</td>\n      <td>78.86</td>\n      <td>0.924</td>\n      <td>0.118433</td>\n      <td>-0.045569</td>\n    </tr>\n    <tr>\n      <th>219971</th>\n      <td>2020-09-10</td>\n      <td>158.899994</td>\n      <td>161.520004</td>\n      <td>157.210007</td>\n      <td>158.100006</td>\n      <td>157.902374</td>\n      <td>1356800.0</td>\n      <td>ZTS</td>\n      <td>07054</td>\n      <td>Healthcare</td>\n      <td>...</td>\n      <td>151.089</td>\n      <td>10.79</td>\n      <td>19.1</td>\n      <td>24.6</td>\n      <td>NaN</td>\n      <td>2.77</td>\n      <td>78.86</td>\n      <td>0.924</td>\n      <td>0.177162</td>\n      <td>-0.001426</td>\n    </tr>\n    <tr>\n      <th>219972</th>\n      <td>2020-09-11</td>\n      <td>159.000000</td>\n      <td>159.619995</td>\n      <td>157.850006</td>\n      <td>158.589996</td>\n      <td>158.391739</td>\n      <td>854100.0</td>\n      <td>ZTS</td>\n      <td>07054</td>\n      <td>Healthcare</td>\n      <td>...</td>\n      <td>151.089</td>\n      <td>10.79</td>\n      <td>19.1</td>\n      <td>24.6</td>\n      <td>NaN</td>\n      <td>2.77</td>\n      <td>78.86</td>\n      <td>0.924</td>\n      <td>0.174774</td>\n      <td>0.032776</td>\n    </tr>\n    <tr>\n      <th>219973</th>\n      <td>2020-09-14</td>\n      <td>159.940002</td>\n      <td>161.970001</td>\n      <td>159.610001</td>\n      <td>160.860001</td>\n      <td>160.658905</td>\n      <td>2092000.0</td>\n      <td>ZTS</td>\n      <td>07054</td>\n      <td>Healthcare</td>\n      <td>...</td>\n      <td>151.089</td>\n      <td>10.79</td>\n      <td>19.1</td>\n      <td>24.6</td>\n      <td>NaN</td>\n      <td>2.77</td>\n      <td>78.86</td>\n      <td>0.924</td>\n      <td>-0.170235</td>\n      <td>0.032073</td>\n    </tr>\n    <tr>\n      <th>219974</th>\n      <td>2020-09-15</td>\n      <td>162.250000</td>\n      <td>163.910004</td>\n      <td>161.699997</td>\n      <td>162.279999</td>\n      <td>162.077133</td>\n      <td>1039900.0</td>\n      <td>ZTS</td>\n      <td>07054</td>\n      <td>Healthcare</td>\n      <td>...</td>\n      <td>151.089</td>\n      <td>10.79</td>\n      <td>19.1</td>\n      <td>24.6</td>\n      <td>NaN</td>\n      <td>2.77</td>\n      <td>78.86</td>\n      <td>0.924</td>\n      <td>0.028638</td>\n      <td>0.065642</td>\n    </tr>\n    <tr>\n      <th>219975</th>\n      <td>2020-09-16</td>\n      <td>163.520004</td>\n      <td>163.990005</td>\n      <td>161.130005</td>\n      <td>161.250000</td>\n      <td>161.048416</td>\n      <td>1721200.0</td>\n      <td>ZTS</td>\n      <td>07054</td>\n      <td>Healthcare</td>\n      <td>...</td>\n      <td>151.089</td>\n      <td>10.79</td>\n      <td>19.1</td>\n      <td>24.6</td>\n      <td>NaN</td>\n      <td>2.77</td>\n      <td>78.86</td>\n      <td>0.924</td>\n      <td>0.477369</td>\n      <td>0.116919</td>\n    </tr>\n    <tr>\n      <th>219976</th>\n      <td>2020-09-17</td>\n      <td>160.419998</td>\n      <td>160.509995</td>\n      <td>158.000000</td>\n      <td>160.470001</td>\n      <td>160.269394</td>\n      <td>1258100.0</td>\n      <td>ZTS</td>\n      <td>07054</td>\n      <td>Healthcare</td>\n      <td>...</td>\n      <td>151.089</td>\n      <td>10.79</td>\n      <td>19.1</td>\n      <td>24.6</td>\n      <td>NaN</td>\n      <td>2.77</td>\n      <td>78.86</td>\n      <td>0.924</td>\n      <td>-0.522118</td>\n      <td>0.017022</td>\n    </tr>\n    <tr>\n      <th>219977</th>\n      <td>2020-09-18</td>\n      <td>160.110001</td>\n      <td>161.970001</td>\n      <td>159.119995</td>\n      <td>160.869995</td>\n      <td>160.668900</td>\n      <td>2518700.0</td>\n      <td>ZTS</td>\n      <td>07054</td>\n      <td>Healthcare</td>\n      <td>...</td>\n      <td>151.089</td>\n      <td>10.79</td>\n      <td>19.1</td>\n      <td>24.6</td>\n      <td>NaN</td>\n      <td>2.77</td>\n      <td>78.86</td>\n      <td>0.924</td>\n      <td>0.771160</td>\n      <td>0.102220</td>\n    </tr>\n    <tr>\n      <th>219978</th>\n      <td>2020-09-21</td>\n      <td>159.339996</td>\n      <td>161.070007</td>\n      <td>157.419998</td>\n      <td>160.970001</td>\n      <td>160.768768</td>\n      <td>1170000.0</td>\n      <td>ZTS</td>\n      <td>07054</td>\n      <td>Healthcare</td>\n      <td>...</td>\n      <td>151.089</td>\n      <td>10.79</td>\n      <td>19.1</td>\n      <td>24.6</td>\n      <td>NaN</td>\n      <td>2.77</td>\n      <td>78.86</td>\n      <td>0.924</td>\n      <td>-0.010994</td>\n      <td>0.099865</td>\n    </tr>\n    <tr>\n      <th>219979</th>\n      <td>2020-09-22</td>\n      <td>160.350006</td>\n      <td>162.479996</td>\n      <td>160.100006</td>\n      <td>161.509995</td>\n      <td>161.308090</td>\n      <td>1545000.0</td>\n      <td>ZTS</td>\n      <td>07054</td>\n      <td>Healthcare</td>\n      <td>...</td>\n      <td>151.089</td>\n      <td>10.79</td>\n      <td>19.1</td>\n      <td>24.6</td>\n      <td>NaN</td>\n      <td>2.77</td>\n      <td>78.86</td>\n      <td>0.924</td>\n      <td>0.333760</td>\n      <td>0.143454</td>\n    </tr>\n    <tr>\n      <th>219980</th>\n      <td>2020-09-23</td>\n      <td>161.970001</td>\n      <td>162.669998</td>\n      <td>159.119995</td>\n      <td>159.330002</td>\n      <td>159.130829</td>\n      <td>1301200.0</td>\n      <td>ZTS</td>\n      <td>07054</td>\n      <td>Healthcare</td>\n      <td>...</td>\n      <td>151.089</td>\n      <td>10.79</td>\n      <td>19.1</td>\n      <td>24.6</td>\n      <td>NaN</td>\n      <td>2.77</td>\n      <td>78.86</td>\n      <td>0.924</td>\n      <td>-0.279307</td>\n      <td>0.035357</td>\n    </tr>\n    <tr>\n      <th>219981</th>\n      <td>2020-09-24</td>\n      <td>158.839996</td>\n      <td>159.509995</td>\n      <td>156.529999</td>\n      <td>157.979996</td>\n      <td>157.782501</td>\n      <td>1415600.0</td>\n      <td>ZTS</td>\n      <td>07054</td>\n      <td>Healthcare</td>\n      <td>...</td>\n      <td>151.089</td>\n      <td>10.79</td>\n      <td>19.1</td>\n      <td>24.6</td>\n      <td>NaN</td>\n      <td>2.77</td>\n      <td>78.86</td>\n      <td>0.924</td>\n      <td>-0.009842</td>\n      <td>0.108540</td>\n    </tr>\n    <tr>\n      <th>219982</th>\n      <td>2020-09-25</td>\n      <td>157.429993</td>\n      <td>161.460007</td>\n      <td>157.250000</td>\n      <td>160.839996</td>\n      <td>160.638931</td>\n      <td>1195900.0</td>\n      <td>ZTS</td>\n      <td>07054</td>\n      <td>Healthcare</td>\n      <td>...</td>\n      <td>151.089</td>\n      <td>10.79</td>\n      <td>19.1</td>\n      <td>24.6</td>\n      <td>NaN</td>\n      <td>2.77</td>\n      <td>78.86</td>\n      <td>0.924</td>\n      <td>0.165647</td>\n      <td>0.022038</td>\n    </tr>\n    <tr>\n      <th>219983</th>\n      <td>2020-09-28</td>\n      <td>162.160004</td>\n      <td>164.339996</td>\n      <td>161.160004</td>\n      <td>161.320007</td>\n      <td>161.118347</td>\n      <td>2293800.0</td>\n      <td>ZTS</td>\n      <td>07054</td>\n      <td>Healthcare</td>\n      <td>...</td>\n      <td>151.089</td>\n      <td>10.79</td>\n      <td>19.1</td>\n      <td>24.6</td>\n      <td>NaN</td>\n      <td>2.77</td>\n      <td>78.86</td>\n      <td>0.924</td>\n      <td>-0.201023</td>\n      <td>0.011169</td>\n    </tr>\n    <tr>\n      <th>219984</th>\n      <td>2020-09-29</td>\n      <td>161.619995</td>\n      <td>163.410004</td>\n      <td>161.440002</td>\n      <td>162.479996</td>\n      <td>162.276886</td>\n      <td>1046300.0</td>\n      <td>ZTS</td>\n      <td>07054</td>\n      <td>Healthcare</td>\n      <td>...</td>\n      <td>151.089</td>\n      <td>10.79</td>\n      <td>19.1</td>\n      <td>24.6</td>\n      <td>NaN</td>\n      <td>2.77</td>\n      <td>78.86</td>\n      <td>0.924</td>\n      <td>-0.089660</td>\n      <td>-0.049319</td>\n    </tr>\n    <tr>\n      <th>219985</th>\n      <td>2020-09-30</td>\n      <td>162.919998</td>\n      <td>166.789993</td>\n      <td>162.750000</td>\n      <td>165.369995</td>\n      <td>165.163269</td>\n      <td>1906700.0</td>\n      <td>ZTS</td>\n      <td>07054</td>\n      <td>Healthcare</td>\n      <td>...</td>\n      <td>151.089</td>\n      <td>10.79</td>\n      <td>19.1</td>\n      <td>24.6</td>\n      <td>NaN</td>\n      <td>2.77</td>\n      <td>78.86</td>\n      <td>0.924</td>\n      <td>0.303624</td>\n      <td>0.033957</td>\n    </tr>\n  </tbody>\n</table>\n<p>20 rows × 184 columns</p>\n</div>"
     },
     "metadata": {},
     "execution_count": 19
    }
   ],
   "source": [
    "covid_usa = pd.read_csv(\"covid_usa_smoothed.csv\")\n",
    "\n",
    "covid_usa[\"datetime\"] = covid_usa[\"date\"].apply(lambda s: datetime.datetime.strptime(s, \"%d/%m/%Y\"))\n",
    "\n",
    "#covid_usa.info()\n",
    "\n",
    "final_df_covid = final_df.merge(covid_usa, how = \"left\", left_on= \"datetime\", right_on=\"datetime\")\n",
    "\n",
    "final_df_covid.tail(20)"
   ]
  },
  {
   "cell_type": "code",
   "execution_count": 42,
   "metadata": {},
   "outputs": [
    {
     "output_type": "stream",
     "name": "stdout",
     "text": [
      "{'A': 0.5597352344556783, 'AAL': -0.6671031096203516, 'AAP': 0.2839973419613668, 'AAPL': 0.6203982148263543, 'ABBV': 0.46985792834700185, 'ABC': 0.6877297519565522, 'ABMD': 0.7801437174235112, 'ABT': 0.6473837133718365, 'ACN': 0.46363299521459034, 'ADBE': 0.6945416860156245, 'ADI': 0.22749812660201868, 'ADM': 0.09473312814396474, 'ADP': -0.5180234612405967, 'ADSK': 0.6195200185397297, 'AEE': -0.1185661580987958, 'AEP': -0.5609238033226198, 'AES': -0.27796637501439664, 'AFL': -0.5740340554065954, 'AIG': -0.5571624724934298, 'AIV': -0.6562161454699647, 'AIZ': -0.3671375080442624, 'AJG': 0.23983508788008664, 'AKAM': 0.8203095590702377, 'ALB': 0.26558969737523985, 'ALGN': 0.4236607292976052, 'ALK': -0.5793878106158965, 'ALL': -0.5783527452898511, 'ALLE': -0.5643066776882067, 'ALXN': 0.32608065402333425, 'AMAT': 0.23403191290387174, 'AMCR': 0.32536809224848395, 'AMD': 0.6057550048510592, 'AME': 0.09658269667295552, 'AMGN': 0.6287030077205353, 'AMP': 0.014264602836634726, 'AMT': 0.5376511364176021, 'AMZN': 0.8445936865880304, 'ANET': 0.3079263576498233, 'ANSS': 0.5798189044444272, 'ANTM': -0.16683305601427942, 'AON': -0.18193468119639764, 'AOS': 0.5407682747957966, 'APA': -0.48393535405919685, 'APD': 0.6135524713752893, 'APH': 0.20469976605910947, 'APTV': 0.03121472467499707, 'ARE': 0.3097306137143158, 'ATO': -0.49193548557037803, 'ATVI': 0.8382594445293873, 'AVB': -0.741106297002883, 'AVGO': 0.3684079531574213, 'AVY': -0.2409856340204656, 'AWK': 0.4376226401778186, 'AXP': -0.5112893308994628, 'AZO': 0.3748591202696937, 'BA': -0.5855910368713041, 'BAC': -0.5135973699111647, 'BAX': -0.14452927075828137, 'BBY': 0.4190337343175352, 'BDX': 0.03314168209417211, 'BEN': -0.32612590110940776, 'BIIB': -0.43070431383897206, 'BIO': 0.80265051138313, 'BK': -0.460704908948753, 'BKNG': -0.11456118923736601, 'BKR': -0.41610535636837515, 'BLK': 0.4772699006839739, 'BLL': 0.2837763946907994, 'BMY': -0.18401554430950925, 'BR': 0.4678770110890631, 'BSX': -0.19572757529659388, 'BWA': 0.26821451818297876, 'BXP': -0.7253731799921647, 'C': -0.5509318914670462, 'CAG': 0.7154921271716023, 'CAH': -0.0227766257102431, 'CARR': 0.6193737459289178, 'CAT': 0.20143599652981742, 'CB': -0.37178932207259024, 'CBOE': -0.7171155205566494, 'CBRE': -0.5391612621148812, 'CCI': 0.587604328052922, 'CCL': -0.6679654768561994, 'CDNS': 0.7956286288764194, 'CDW': -0.27516280383580993, 'CE': -0.14173777441694396, 'CERN': -0.08721010145187058, 'CF': -0.43898174828739683, 'CFG': -0.49903073723258107, 'CHD': 0.6518914328250325, 'CHRW': 0.6030644019721835, 'CHTR': 0.5483011954312501, 'CI': -0.4367285051638351, 'CINF': -0.5276304499289216, 'CL': 0.4682059856146346, 'CLX': 0.8907544221963698, 'CMA': -0.5777748874451766, 'CMCSA': 0.0027140788184634576, 'CME': -0.7145706099793966, 'CMG': 0.6641304868464698, 'CMI': 0.5356410746772604, 'CMS': -0.28421781941568286, 'CNC': 0.19766502969050462, 'CNP': -0.4075633449295246, 'COF': -0.5837371369849238, 'COG': 0.5227879418519507, 'COO': -0.4559509659559321, 'COP': -0.5147111393453426, 'COST': 0.5678689989859868, 'CPB': 0.2170084101479828, 'CPRT': 0.07782864811318808, 'CRM': 0.4100551798708075, 'CSCO': 0.04076825590579197, 'CSX': 0.06838842122947895, 'CTAS': 0.2564515578993002, 'CTLT': 0.7449858578679475, 'CTSH': 0.16676586055109416, 'CTVA': 0.014351367858151769, 'CTXS': 0.7728344465025012, 'CVS': -0.34634911797816037, 'CVX': -0.45484720524295613, 'CXO': -0.5832318804950566, 'D': -0.34379374457422934, 'DAL': -0.6829571166308561, 'DD': 0.1940056780713188, 'DE': 0.3320553853881347, 'DFS': -0.4649122608368392, 'DG': 0.7728344963946261, 'DGX': 0.4266118229051376, 'DHI': 0.3925526304613913, 'DHR': 0.7025561746472818, 'DIS': -0.1946832673953099, 'DISCA': -0.6465287797358342, 'DISCK': -0.6736591262033423, 'DISH': -0.032786568617307006, 'DLR': 0.7868430095899228, 'DLTR': 0.3996298267058521, 'DOV': -0.10151032580652233, 'DOW': -0.02386881386995352, 'DPZ': 0.7768905975953265, 'DRE': 0.39043666755507955, 'DRI': -0.408385643455286, 'DTE': -0.2403258527120782, 'DUK': -0.5902045076087792, 'DVA': 0.43106229462262097, 'DVN': -0.5800480573585989, 'DXC': -0.5417446766252557, 'DXCM': 0.8191789118168865, 'EA': 0.821122475221877, 'EBAY': 0.8187147304225697, 'ECL': 0.1845819345975227, 'ED': -0.7028909557313248, 'EFX': 0.38753235374581396, 'EIX': -0.6781334972127496, 'EL': 0.09635297503213254, 'EMN': 0.2792830761881699, 'EMR': -0.126567274353321, 'EOG': -0.5434708089099464, 'EQIX': 0.8172852409833258, 'EQR': -0.8040335472921908, 'ES': -0.1384777016563341, 'ESS': -0.7445036478944271, 'ETN': 0.09629264779376347, 'ETR': -0.5981444045776687, 'ETSY': 0.8054439424748242, 'EVRG': -0.4708135656191705, 'EW': 0.18689727174456194, 'EXC': -0.5888556825731783, 'EXPD': 0.5381468229250933, 'EXPE': -0.25872544779354706, 'EXR': -0.18333296996277618, 'F': -0.3023264887946725, 'FANG': -0.5392632418817762, 'FAST': 0.7097754557802052, 'FB': 0.5444036677554605, 'FBHS': 0.3106406903907159, 'FCX': 0.4010671071334839, 'FDX': 0.41570492069981807, 'FE': -0.7162002005625929, 'FFIV': 0.396044873249209, 'FIS': 0.08631365996042924, 'FISV': -0.5212278506618685, 'FITB': -0.490706679469466, 'FLIR': -0.47094431824339544, 'FLS': -0.5415874920689925, 'FLT': -0.35570234186704536, 'FMC': 0.411509891462588, 'FOX': -0.5954805719984188, 'FOXA': -0.6301030949033494, 'FRC': 0.10687212974466087, 'FRT': -0.7276323646708607, 'FTI': -0.6485705016359115, 'FTNT': 0.5272092718910419, 'FTV': 0.03304124355505387, 'GD': -0.4378251952191828, 'GE': -0.7066290762831288, 'GILD': 0.1812549461138632, 'GIS': 0.807198696652675, 'GL': -0.5200015074712862, 'GLW': 0.3095808188899363, 'GM': -0.355063875521842, 'GOOG': 0.394618554845564, 'GOOGL': 0.39456357500280254, 'GPC': -0.01726551307276122, 'GPN': -0.2989845543803223, 'GPS': -0.14224159471650025, 'GRMN': 0.2828733922369475, 'GS': -0.18866688931431302, 'GWW': 0.3881538093387266, 'HAL': -0.32131897217856253, 'HAS': -0.3434097734567498, 'HBAN': -0.58867219684445, 'HBI': 0.16345983681231188, 'HCA': -0.27083003505796943, 'HD': 0.5408609607864288, 'HES': -0.3016933331000706, 'HFC': -0.5934778911348925, 'HIG': -0.5702531731912323, 'HII': -0.6876080406110152, 'HLT': -0.48907099112095703, 'HOLX': 0.5565089352321216, 'HON': -0.27311125925453916, 'HPE': -0.6568683341251798, 'HPQ': -0.39828562824374053, 'HRL': 0.691318583781134, 'HSIC': -0.03721698863966101, 'HST': -0.6808336668212037, 'HSY': -0.3174944220106445, 'HUM': 0.5337863395579706, 'HWM': -0.6287947579872806, 'IBM': -0.36312428483182785, 'ICE': 0.26106938867061724, 'IDXX': 0.7254147678011603, 'IEX': 0.2387418549424947, 'IFF': -0.04666071814497774, 'ILMN': 0.6344098882491093, 'INCY': 0.7481219237819084, 'INFO': 0.29402463390007694, 'INTC': -0.4120020529234184, 'INTU': 0.4327079124703209, 'IP': -0.28796050944739743, 'IPG': -0.48072638169428666, 'IPGP': 0.620231228123836, 'IQV': 0.17409755788159254, 'IR': -0.026864023393071364, 'IRM': -0.3402180326656239, 'ISRG': 0.4789247038565068, 'IT': -0.3021760376723311, 'ITW': 0.32078108135730166, 'IVZ': -0.5484764755430586, 'J': -0.2550028840715534, 'JBHT': 0.6118748599687024, 'JCI': -0.007436376729778901, 'JKHY': 0.5768616766144232, 'JNJ': 0.22675049865511573, 'JNPR': 0.23901511290617902, 'JPM': -0.580625154877707, 'K': 0.2511141654578893, 'KEY': -0.5835105042566162, 'KEYS': 0.15846159288304232, 'KHC': 0.6175071972749433, 'KIM': -0.6334838264598912, 'KLAC': 0.6167228922737907, 'KMB': 0.4498844492531373, 'KMI': -0.6632575527735528, 'KMX': 0.24721472781206602, 'KO': -0.5615629414298411, 'KR': 0.7772100889813419, 'KSU': 0.21436224820762634, 'L': -0.6114497867167852, 'LB': 0.16031213819011936, 'LDOS': -0.5201508229769302, 'LEG': -0.23392756104872556, 'LEN': 0.32464512863778416, 'LH': 0.2529106692132585, 'LHX': -0.6825231996420115, 'LIN': 0.5604936208036067, 'LKQ': -0.16485475101542038, 'LLY': 0.7392296542043459, 'LMT': -0.25733502066954794, 'LNC': -0.48312984218107796, 'LNT': -0.31976507682733335, 'LOW': 0.5679151042944852, 'LRCX': 0.5181815792649332, 'LUMN': 0.525745212703903, 'LUV': -0.6514923117293393, 'LVS': -0.6226475360007092, 'LW': -0.566554891489243, 'LYB': -0.24326054460836327, 'LYV': -0.45282031245292415, 'MA': 0.17871859648736177, 'MAA': -0.5510875430925488, 'MAR': -0.5922211229548754, 'MAS': 0.524435878978205, 'MCD': 0.005862156917138055, 'MCHP': 0.19652836655303277, 'MCK': 0.14428381961772083, 'MCO': 0.5392063985439057, 'MDLZ': 0.038434056717846936, 'MDT': -0.3757726224358639, 'MET': -0.4153245061788829, 'MGM': -0.4826747817373144, 'MHK': -0.6330568322486043, 'MKC': 0.6482931860014993, 'MKTX': 0.7997628619716155, 'MLM': -0.33261920568934333, 'MMC': 0.2043563655877803, 'MMM': -0.03604537179350839, 'MNST': 0.5514134266537861, 'MO': -0.32424230579859836, 'MOS': -0.2487127560916177, 'MPC': -0.4261644531697008, 'MRK': -0.1790450170816681, 'MRO': -0.5663269299681302, 'MS': 0.11842345721292766, 'MSCI': 0.8286805503021855, 'MSFT': 0.7538878140093699, 'MSI': -0.6357255030083683, 'MTB': -0.6880542284329956, 'MTD': 0.5521272527086472, 'MU': -0.25752345344095323, 'MXIM': 0.5119827771028702, 'MYL': -0.5329230404113648, 'NCLH': -0.6432511970245638, 'NDAQ': 0.635727821089153, 'NEE': 0.3503693114572373, 'NEM': 0.8054009151748309, 'NFLX': 0.862264034570987, 'NI': -0.6250942751646009, 'NKE': 0.28257901738722385, 'NLOK': -0.08607959091528372, 'NLSN': -0.5654022093259745, 'NOC': -0.4865619339214355, 'NOV': -0.6361489277790832, 'NOW': 0.695832564351689, 'NRG': -0.22131134717884904, 'NSC': 0.08127139929195959, 'NTAP': -0.5176501642526311, 'NTRS': -0.4617351314847433, 'NUE': -0.1727289276612366, 'NVDA': 0.7442882487424138, 'NVR': 0.05146522745118541, 'NWL': -0.12890372541477632, 'NWS': 0.027916640028863786, 'NWSA': 0.07671111151928067, 'O': -0.5183223293367965, 'ODFL': 0.7575545749890107, 'OKE': -0.6989772026234213, 'OMC': -0.6965281744883574, 'ORCL': 0.5043196289948659, 'ORLY': 0.45452594865906737, 'OTIS': 0.5980102204108975, 'OXY': -0.622753737090338, 'PAYC': 0.1479269452414946, 'PAYX': -0.32162857791705757, 'PBCT': -0.7392134684961907, 'PCAR': 0.4874362071525047, 'PEAK': -0.5077302747798785, 'PEG': -0.19095798366462907, 'PEP': -0.03218689983588142, 'PFE': 0.06511984798724256, 'PFG': -0.2747437519172276, 'PG': 0.39800232160568694, 'PGR': 0.5899499393651357, 'PH': 0.05024827986741397, 'PHM': 0.06054077103105994, 'PKG': 0.14363036502637008, 'PKI': 0.5738712892547124, 'PLD': 0.4647996293709978, 'PM': -0.3992075198118717, 'PNC': -0.5817059983973237, 'PNR': 0.08144852934817393, 'PNW': -0.5496097202825405, 'POOL': 0.7102951258212178, 'PPG': 0.01091913471265474, 'PPL': -0.5912070701344881, 'PRGO': -0.04479820443254976, 'PRU': -0.45269476381819523, 'PSA': -0.4251215219130329, 'PSX': -0.5426103134613062, 'PVH': -0.5450769044485255, 'PWR': 0.3427116650825644, 'PXD': -0.390510512899266, 'PYPL': 0.7648106394468449, 'QCOM': 0.4797134997399263, 'QRVO': 0.4457455736145691, 'RCL': -0.5149491336440665, 'RE': -0.47848230874329395, 'REG': -0.6997125066461922, 'REGN': 0.8478609258129115, 'RF': -0.5383591492940513, 'RHI': -0.15174750428383554, 'RJF': -0.4949858749222356, 'RL': -0.7245833086158523, 'RMD': 0.7058964282927312, 'ROK': 0.47646152283524457, 'ROL': 0.7048111997430165, 'ROP': 0.5017991021230834, 'ROST': -0.5920988141206259, 'RSG': -0.22274044858179254, 'RTX': -0.6672984415244962, 'SBAC': 0.6646392262049561, 'SBUX': -0.229661671208365, 'SCHW': -0.5841446843163437, 'SEE': 0.267265684877701, 'SHW': 0.4563535429149514, 'SIVB': 0.02772934890880528, 'SJM': 0.24376900413224953, 'SLB': -0.5724414957269115, 'SLG': -0.7065135529992971, 'SNA': -0.18608232101228553, 'SNPS': 0.7328213578522873, 'SO': -0.662460045097084, 'SPG': -0.6911252526268523, 'SPGI': 0.6776446578932177, 'SRE': -0.5083508541923021, 'STE': 0.2339726652555404, 'STT': -0.282989001911878, 'STX': -0.546952272006011, 'STZ': 0.013007282105660553, 'SWK': 0.09237086219748662, 'SWKS': 0.5465578631486513, 'SYF': -0.4151035023550345, 'SYK': -0.17579751852610742, 'SYY': -0.47310286935375834, 'T': -0.7245508267800297, 'TAP': -0.7579783003123184, 'TDG': -0.3791131566003271, 'TDY': -0.40665834238685616, 'TEL': 0.04787999014641375, 'TER': 0.6940640080405595, 'TFC': -0.527900139714445, 'TFX': 0.18634834116591859, 'TGT': 0.435314836624842, 'TIF': -0.6086265749669861, 'TJX': -0.35843432233860045, 'TMO': 0.7170579832909576, 'TMUS': 0.7325765468028564, 'TPR': -0.6786553713287777, 'TROW': 0.21918886861855036, 'TRV': -0.29606176523577943, 'TSCO': 0.8078582445894222, 'TSN': -0.5431081220597679, 'TT': 0.16511053546836574, 'TTWO': 0.7671507620174365, 'TWTR': 0.31407521036339286, 'TXN': 0.37185135129135755, 'TXT': -0.3264677343704671, 'TYL': 0.5534437376038949, 'UA': -0.5856146427489514, 'UAA': -0.5863306849686389, 'UAL': -0.6439161548791077, 'UDR': -0.7259879532409315, 'UHS': -0.5262226082099366, 'ULTA': -0.5351372836248018, 'UNH': 0.4283288368194492, 'UNM': -0.5318863944542742, 'UNP': 0.2491266836209714, 'UPS': 0.508660237148243, 'URI': 0.3529899034964958, 'USB': -0.5973187781532555, 'V': 0.1700420689415092, 'VAR': 0.20456033296217083, 'VFC': -0.519476940617211, 'VIAC': -0.22904502311434824, 'VLO': -0.5641387948063552, 'VMC': -0.13673071526700403, 'VNO': -0.7159941133861959, 'VRSK': 0.5877608831103557, 'VRSN': 0.23990561059360171, 'VRTX': 0.7639923468447969, 'VTR': -0.46205567013406457, 'VZ': -0.05042230252431017, 'WAB': -0.30305550038496054, 'WAT': -0.09077162715270358, 'WBA': -0.7351464583591916, 'WDC': -0.648950475922063, 'WEC': -0.3119214005345613, 'WELL': -0.5747002386817635, 'WFC': -0.7473149163220871, 'WHR': 0.304500677685936, 'WLTW': 0.12688636853676416, 'WM': -0.297644592836614, 'WMB': -0.009365661043975812, 'WMT': 0.704381245627314, 'WRB': -0.3185502507619251, 'WRK': -0.45324075125625446, 'WST': 0.8060486621760378, 'WU': -0.3256989773212283, 'WY': -0.03201083637194501, 'WYNN': -0.590253772598493, 'XEL': 0.18706953819380223, 'XLNX': 0.5673023203877732, 'XOM': -0.584337929108303, 'XRAY': -0.45244836640445135, 'XRX': -0.7441476640585438, 'XYL': -0.16663189754974847, 'YUM': -0.1656810294791915, 'ZBH': -0.14497100750194286, 'ZBRA': 0.4938620861939985, 'ZION': -0.5291507684956318, 'ZTS': 0.44659187186656657}\n"
     ]
    }
   ],
   "source": [
    "### correlation matrix between new cases and open_x (absolute values)\n",
    "\n",
    "df_corr_stock = final_df_covid.pivot(index=\"datetime\", columns=\"ticker\", values=\"normalized_open\")\n",
    "\n",
    "df_corr_covid = final_df_covid.pivot(index=\"datetime\", columns=\"ticker\", values=\"new_cases\")\n",
    "\n",
    "#df_corr_stock[\"AAPL\"].corr(df_corr_covid[\"AAPL\"], method=\"pearson\")\n",
    "\n",
    "correlation_list= {}\n",
    "\n",
    "for ticker in df_corr_stock:\n",
    "    correlation = df_corr_stock[ticker].corr(df_corr_covid[ticker], method=\"pearson\")\n",
    "    correlation_list[ticker]=correlation\n",
    "\n",
    "print(correlation_list)"
   ]
  },
  {
   "cell_type": "code",
   "execution_count": 63,
   "metadata": {},
   "outputs": [
    {
     "output_type": "stream",
     "name": "stdout",
     "text": [
      "['CLX', 'NFLX', 'REGN', 'AMZN', 'ATVI']\n['CMCSA', 'MCD', 'JCI', 'WMB', 'PPG']\n['CMCSA', 'MCD', 'JCI', 'WMB', 'PPG']\n"
     ]
    }
   ],
   "source": [
    "### finding the max and min correlation values\n",
    "\n",
    "###strongest positive correlation\n",
    "print(heapq.nlargest(5,correlation_list,key=correlation_list.get))\n",
    "\n",
    "###strongest negative correlation\n",
    "print(heapq.nsmallest(5,correlation_list,key=correlation_list.get))\n",
    "\n",
    "### weakest correlation\n",
    "correlation_list_abs={}\n",
    "for ticker in correlation_list:\n",
    "    correlation_list_abs[ticker]=abs(correlation_list[ticker])\n",
    "\n",
    "print(heapq.nsmallest(5,correlation_list_abs,key=correlation_list.get))\n"
   ]
  },
  {
   "cell_type": "code",
   "execution_count": 74,
   "metadata": {},
   "outputs": [
    {
     "output_type": "error",
     "ename": "KeyError",
     "evalue": "False",
     "traceback": [
      "\u001b[1;31m---------------------------------------------------------------------------\u001b[0m",
      "\u001b[1;31mKeyError\u001b[0m                                  Traceback (most recent call last)",
      "\u001b[1;32m~\\AppData\\Local\\Programs\\Python\\Python37\\lib\\site-packages\\pandas\\core\\indexes\\base.py\u001b[0m in \u001b[0;36mget_loc\u001b[1;34m(self, key, method, tolerance)\u001b[0m\n\u001b[0;32m   2890\u001b[0m             \u001b[1;32mtry\u001b[0m\u001b[1;33m:\u001b[0m\u001b[1;33m\u001b[0m\u001b[1;33m\u001b[0m\u001b[0m\n\u001b[1;32m-> 2891\u001b[1;33m                 \u001b[1;32mreturn\u001b[0m \u001b[0mself\u001b[0m\u001b[1;33m.\u001b[0m\u001b[0m_engine\u001b[0m\u001b[1;33m.\u001b[0m\u001b[0mget_loc\u001b[0m\u001b[1;33m(\u001b[0m\u001b[0mcasted_key\u001b[0m\u001b[1;33m)\u001b[0m\u001b[1;33m\u001b[0m\u001b[1;33m\u001b[0m\u001b[0m\n\u001b[0m\u001b[0;32m   2892\u001b[0m             \u001b[1;32mexcept\u001b[0m \u001b[0mKeyError\u001b[0m \u001b[1;32mas\u001b[0m \u001b[0merr\u001b[0m\u001b[1;33m:\u001b[0m\u001b[1;33m\u001b[0m\u001b[1;33m\u001b[0m\u001b[0m\n",
      "\u001b[1;32mpandas\\_libs\\index.pyx\u001b[0m in \u001b[0;36mpandas._libs.index.IndexEngine.get_loc\u001b[1;34m()\u001b[0m\n",
      "\u001b[1;32mpandas\\_libs\\index.pyx\u001b[0m in \u001b[0;36mpandas._libs.index.IndexEngine.get_loc\u001b[1;34m()\u001b[0m\n",
      "\u001b[1;32mpandas\\_libs\\hashtable_class_helper.pxi\u001b[0m in \u001b[0;36mpandas._libs.hashtable.PyObjectHashTable.get_item\u001b[1;34m()\u001b[0m\n",
      "\u001b[1;32mpandas\\_libs\\hashtable_class_helper.pxi\u001b[0m in \u001b[0;36mpandas._libs.hashtable.PyObjectHashTable.get_item\u001b[1;34m()\u001b[0m\n",
      "\u001b[1;31mKeyError\u001b[0m: False",
      "\nThe above exception was the direct cause of the following exception:\n",
      "\u001b[1;31mKeyError\u001b[0m                                  Traceback (most recent call last)",
      "\u001b[1;32m<ipython-input-74-a28ee0abb44c>\u001b[0m in \u001b[0;36m<module>\u001b[1;34m\u001b[0m\n\u001b[0;32m      1\u001b[0m \u001b[0mdf_corr_joint\u001b[0m \u001b[1;33m=\u001b[0m \u001b[0mfinal_df_covid\u001b[0m\u001b[1;33m.\u001b[0m\u001b[0mpivot\u001b[0m\u001b[1;33m(\u001b[0m\u001b[0mindex\u001b[0m\u001b[1;33m=\u001b[0m\u001b[1;34m\"datetime\"\u001b[0m\u001b[1;33m,\u001b[0m \u001b[0mcolumns\u001b[0m\u001b[1;33m=\u001b[0m\u001b[1;34m\"ticker\"\u001b[0m\u001b[1;33m,\u001b[0m \u001b[0mvalues\u001b[0m\u001b[1;33m=\u001b[0m\u001b[1;33m[\u001b[0m\u001b[1;34m\"open_x\"\u001b[0m\u001b[1;33m,\u001b[0m\u001b[1;34m\"new_cases\"\u001b[0m\u001b[1;33m]\u001b[0m\u001b[1;33m)\u001b[0m\u001b[1;33m\u001b[0m\u001b[1;33m\u001b[0m\u001b[0m\n\u001b[0;32m      2\u001b[0m \u001b[1;33m\u001b[0m\u001b[0m\n\u001b[1;32m----> 3\u001b[1;33m \u001b[0mplt\u001b[0m\u001b[1;33m.\u001b[0m\u001b[0mscatter\u001b[0m\u001b[1;33m(\u001b[0m\u001b[1;34m\"open_x\"\u001b[0m\u001b[1;33m,\u001b[0m \u001b[1;34m\"new_cases\"\u001b[0m\u001b[1;33m,\u001b[0m \u001b[0mdata\u001b[0m\u001b[1;33m=\u001b[0m\u001b[0mdf_corr_joint\u001b[0m\u001b[1;33m[\u001b[0m\u001b[1;34m\"ticker\"\u001b[0m\u001b[1;33m==\u001b[0m\u001b[1;34m\"CLX\"\u001b[0m\u001b[1;33m]\u001b[0m\u001b[1;33m)\u001b[0m\u001b[1;33m\u001b[0m\u001b[1;33m\u001b[0m\u001b[0m\n\u001b[0m",
      "\u001b[1;32m~\\AppData\\Local\\Programs\\Python\\Python37\\lib\\site-packages\\pandas\\core\\frame.py\u001b[0m in \u001b[0;36m__getitem__\u001b[1;34m(self, key)\u001b[0m\n\u001b[0;32m   2899\u001b[0m         \u001b[1;32mif\u001b[0m \u001b[0mis_single_key\u001b[0m\u001b[1;33m:\u001b[0m\u001b[1;33m\u001b[0m\u001b[1;33m\u001b[0m\u001b[0m\n\u001b[0;32m   2900\u001b[0m             \u001b[1;32mif\u001b[0m \u001b[0mself\u001b[0m\u001b[1;33m.\u001b[0m\u001b[0mcolumns\u001b[0m\u001b[1;33m.\u001b[0m\u001b[0mnlevels\u001b[0m \u001b[1;33m>\u001b[0m \u001b[1;36m1\u001b[0m\u001b[1;33m:\u001b[0m\u001b[1;33m\u001b[0m\u001b[1;33m\u001b[0m\u001b[0m\n\u001b[1;32m-> 2901\u001b[1;33m                 \u001b[1;32mreturn\u001b[0m \u001b[0mself\u001b[0m\u001b[1;33m.\u001b[0m\u001b[0m_getitem_multilevel\u001b[0m\u001b[1;33m(\u001b[0m\u001b[0mkey\u001b[0m\u001b[1;33m)\u001b[0m\u001b[1;33m\u001b[0m\u001b[1;33m\u001b[0m\u001b[0m\n\u001b[0m\u001b[0;32m   2902\u001b[0m             \u001b[0mindexer\u001b[0m \u001b[1;33m=\u001b[0m \u001b[0mself\u001b[0m\u001b[1;33m.\u001b[0m\u001b[0mcolumns\u001b[0m\u001b[1;33m.\u001b[0m\u001b[0mget_loc\u001b[0m\u001b[1;33m(\u001b[0m\u001b[0mkey\u001b[0m\u001b[1;33m)\u001b[0m\u001b[1;33m\u001b[0m\u001b[1;33m\u001b[0m\u001b[0m\n\u001b[0;32m   2903\u001b[0m             \u001b[1;32mif\u001b[0m \u001b[0mis_integer\u001b[0m\u001b[1;33m(\u001b[0m\u001b[0mindexer\u001b[0m\u001b[1;33m)\u001b[0m\u001b[1;33m:\u001b[0m\u001b[1;33m\u001b[0m\u001b[1;33m\u001b[0m\u001b[0m\n",
      "\u001b[1;32m~\\AppData\\Local\\Programs\\Python\\Python37\\lib\\site-packages\\pandas\\core\\frame.py\u001b[0m in \u001b[0;36m_getitem_multilevel\u001b[1;34m(self, key)\u001b[0m\n\u001b[0;32m   2949\u001b[0m     \u001b[1;32mdef\u001b[0m \u001b[0m_getitem_multilevel\u001b[0m\u001b[1;33m(\u001b[0m\u001b[0mself\u001b[0m\u001b[1;33m,\u001b[0m \u001b[0mkey\u001b[0m\u001b[1;33m)\u001b[0m\u001b[1;33m:\u001b[0m\u001b[1;33m\u001b[0m\u001b[1;33m\u001b[0m\u001b[0m\n\u001b[0;32m   2950\u001b[0m         \u001b[1;31m# self.columns is a MultiIndex\u001b[0m\u001b[1;33m\u001b[0m\u001b[1;33m\u001b[0m\u001b[1;33m\u001b[0m\u001b[0m\n\u001b[1;32m-> 2951\u001b[1;33m         \u001b[0mloc\u001b[0m \u001b[1;33m=\u001b[0m \u001b[0mself\u001b[0m\u001b[1;33m.\u001b[0m\u001b[0mcolumns\u001b[0m\u001b[1;33m.\u001b[0m\u001b[0mget_loc\u001b[0m\u001b[1;33m(\u001b[0m\u001b[0mkey\u001b[0m\u001b[1;33m)\u001b[0m\u001b[1;33m\u001b[0m\u001b[1;33m\u001b[0m\u001b[0m\n\u001b[0m\u001b[0;32m   2952\u001b[0m         \u001b[1;32mif\u001b[0m \u001b[0misinstance\u001b[0m\u001b[1;33m(\u001b[0m\u001b[0mloc\u001b[0m\u001b[1;33m,\u001b[0m \u001b[1;33m(\u001b[0m\u001b[0mslice\u001b[0m\u001b[1;33m,\u001b[0m \u001b[0mnp\u001b[0m\u001b[1;33m.\u001b[0m\u001b[0mndarray\u001b[0m\u001b[1;33m)\u001b[0m\u001b[1;33m)\u001b[0m\u001b[1;33m:\u001b[0m\u001b[1;33m\u001b[0m\u001b[1;33m\u001b[0m\u001b[0m\n\u001b[0;32m   2953\u001b[0m             \u001b[0mnew_columns\u001b[0m \u001b[1;33m=\u001b[0m \u001b[0mself\u001b[0m\u001b[1;33m.\u001b[0m\u001b[0mcolumns\u001b[0m\u001b[1;33m[\u001b[0m\u001b[0mloc\u001b[0m\u001b[1;33m]\u001b[0m\u001b[1;33m\u001b[0m\u001b[1;33m\u001b[0m\u001b[0m\n",
      "\u001b[1;32m~\\AppData\\Local\\Programs\\Python\\Python37\\lib\\site-packages\\pandas\\core\\indexes\\multi.py\u001b[0m in \u001b[0;36mget_loc\u001b[1;34m(self, key, method)\u001b[0m\n\u001b[0;32m   2699\u001b[0m \u001b[1;33m\u001b[0m\u001b[0m\n\u001b[0;32m   2700\u001b[0m         \u001b[1;32mif\u001b[0m \u001b[1;32mnot\u001b[0m \u001b[0misinstance\u001b[0m\u001b[1;33m(\u001b[0m\u001b[0mkey\u001b[0m\u001b[1;33m,\u001b[0m \u001b[0mtuple\u001b[0m\u001b[1;33m)\u001b[0m\u001b[1;33m:\u001b[0m\u001b[1;33m\u001b[0m\u001b[1;33m\u001b[0m\u001b[0m\n\u001b[1;32m-> 2701\u001b[1;33m             \u001b[0mloc\u001b[0m \u001b[1;33m=\u001b[0m \u001b[0mself\u001b[0m\u001b[1;33m.\u001b[0m\u001b[0m_get_level_indexer\u001b[0m\u001b[1;33m(\u001b[0m\u001b[0mkey\u001b[0m\u001b[1;33m,\u001b[0m \u001b[0mlevel\u001b[0m\u001b[1;33m=\u001b[0m\u001b[1;36m0\u001b[0m\u001b[1;33m)\u001b[0m\u001b[1;33m\u001b[0m\u001b[1;33m\u001b[0m\u001b[0m\n\u001b[0m\u001b[0;32m   2702\u001b[0m             \u001b[1;32mreturn\u001b[0m \u001b[0m_maybe_to_slice\u001b[0m\u001b[1;33m(\u001b[0m\u001b[0mloc\u001b[0m\u001b[1;33m)\u001b[0m\u001b[1;33m\u001b[0m\u001b[1;33m\u001b[0m\u001b[0m\n\u001b[0;32m   2703\u001b[0m \u001b[1;33m\u001b[0m\u001b[0m\n",
      "\u001b[1;32m~\\AppData\\Local\\Programs\\Python\\Python37\\lib\\site-packages\\pandas\\core\\indexes\\multi.py\u001b[0m in \u001b[0;36m_get_level_indexer\u001b[1;34m(self, key, level, indexer)\u001b[0m\n\u001b[0;32m   2964\u001b[0m         \u001b[1;32melse\u001b[0m\u001b[1;33m:\u001b[0m\u001b[1;33m\u001b[0m\u001b[1;33m\u001b[0m\u001b[0m\n\u001b[0;32m   2965\u001b[0m \u001b[1;33m\u001b[0m\u001b[0m\n\u001b[1;32m-> 2966\u001b[1;33m             \u001b[0mcode\u001b[0m \u001b[1;33m=\u001b[0m \u001b[0mself\u001b[0m\u001b[1;33m.\u001b[0m\u001b[0m_get_loc_single_level_index\u001b[0m\u001b[1;33m(\u001b[0m\u001b[0mlevel_index\u001b[0m\u001b[1;33m,\u001b[0m \u001b[0mkey\u001b[0m\u001b[1;33m)\u001b[0m\u001b[1;33m\u001b[0m\u001b[1;33m\u001b[0m\u001b[0m\n\u001b[0m\u001b[0;32m   2967\u001b[0m \u001b[1;33m\u001b[0m\u001b[0m\n\u001b[0;32m   2968\u001b[0m             \u001b[1;32mif\u001b[0m \u001b[0mlevel\u001b[0m \u001b[1;33m>\u001b[0m \u001b[1;36m0\u001b[0m \u001b[1;32mor\u001b[0m \u001b[0mself\u001b[0m\u001b[1;33m.\u001b[0m\u001b[0mlexsort_depth\u001b[0m \u001b[1;33m==\u001b[0m \u001b[1;36m0\u001b[0m\u001b[1;33m:\u001b[0m\u001b[1;33m\u001b[0m\u001b[1;33m\u001b[0m\u001b[0m\n",
      "\u001b[1;32m~\\AppData\\Local\\Programs\\Python\\Python37\\lib\\site-packages\\pandas\\core\\indexes\\multi.py\u001b[0m in \u001b[0;36m_get_loc_single_level_index\u001b[1;34m(self, level_index, key)\u001b[0m\n\u001b[0;32m   2632\u001b[0m             \u001b[1;32mreturn\u001b[0m \u001b[1;33m-\u001b[0m\u001b[1;36m1\u001b[0m\u001b[1;33m\u001b[0m\u001b[1;33m\u001b[0m\u001b[0m\n\u001b[0;32m   2633\u001b[0m         \u001b[1;32melse\u001b[0m\u001b[1;33m:\u001b[0m\u001b[1;33m\u001b[0m\u001b[1;33m\u001b[0m\u001b[0m\n\u001b[1;32m-> 2634\u001b[1;33m             \u001b[1;32mreturn\u001b[0m \u001b[0mlevel_index\u001b[0m\u001b[1;33m.\u001b[0m\u001b[0mget_loc\u001b[0m\u001b[1;33m(\u001b[0m\u001b[0mkey\u001b[0m\u001b[1;33m)\u001b[0m\u001b[1;33m\u001b[0m\u001b[1;33m\u001b[0m\u001b[0m\n\u001b[0m\u001b[0;32m   2635\u001b[0m \u001b[1;33m\u001b[0m\u001b[0m\n\u001b[0;32m   2636\u001b[0m     \u001b[1;32mdef\u001b[0m \u001b[0mget_loc\u001b[0m\u001b[1;33m(\u001b[0m\u001b[0mself\u001b[0m\u001b[1;33m,\u001b[0m \u001b[0mkey\u001b[0m\u001b[1;33m,\u001b[0m \u001b[0mmethod\u001b[0m\u001b[1;33m=\u001b[0m\u001b[1;32mNone\u001b[0m\u001b[1;33m)\u001b[0m\u001b[1;33m:\u001b[0m\u001b[1;33m\u001b[0m\u001b[1;33m\u001b[0m\u001b[0m\n",
      "\u001b[1;32m~\\AppData\\Local\\Programs\\Python\\Python37\\lib\\site-packages\\pandas\\core\\indexes\\base.py\u001b[0m in \u001b[0;36mget_loc\u001b[1;34m(self, key, method, tolerance)\u001b[0m\n\u001b[0;32m   2891\u001b[0m                 \u001b[1;32mreturn\u001b[0m \u001b[0mself\u001b[0m\u001b[1;33m.\u001b[0m\u001b[0m_engine\u001b[0m\u001b[1;33m.\u001b[0m\u001b[0mget_loc\u001b[0m\u001b[1;33m(\u001b[0m\u001b[0mcasted_key\u001b[0m\u001b[1;33m)\u001b[0m\u001b[1;33m\u001b[0m\u001b[1;33m\u001b[0m\u001b[0m\n\u001b[0;32m   2892\u001b[0m             \u001b[1;32mexcept\u001b[0m \u001b[0mKeyError\u001b[0m \u001b[1;32mas\u001b[0m \u001b[0merr\u001b[0m\u001b[1;33m:\u001b[0m\u001b[1;33m\u001b[0m\u001b[1;33m\u001b[0m\u001b[0m\n\u001b[1;32m-> 2893\u001b[1;33m                 \u001b[1;32mraise\u001b[0m \u001b[0mKeyError\u001b[0m\u001b[1;33m(\u001b[0m\u001b[0mkey\u001b[0m\u001b[1;33m)\u001b[0m \u001b[1;32mfrom\u001b[0m \u001b[0merr\u001b[0m\u001b[1;33m\u001b[0m\u001b[1;33m\u001b[0m\u001b[0m\n\u001b[0m\u001b[0;32m   2894\u001b[0m \u001b[1;33m\u001b[0m\u001b[0m\n\u001b[0;32m   2895\u001b[0m         \u001b[1;32mif\u001b[0m \u001b[0mtolerance\u001b[0m \u001b[1;32mis\u001b[0m \u001b[1;32mnot\u001b[0m \u001b[1;32mNone\u001b[0m\u001b[1;33m:\u001b[0m\u001b[1;33m\u001b[0m\u001b[1;33m\u001b[0m\u001b[0m\n",
      "\u001b[1;31mKeyError\u001b[0m: False"
     ]
    }
   ],
   "source": [
    "\n",
    "df_corr_joint = final_df_covid.pivot(index=\"datetime\", columns=\"ticker\", values=[\"open_x\",\"new_cases\"])\n",
    "\n"
   ]
  },
  {
   "cell_type": "code",
   "execution_count": null,
   "metadata": {},
   "outputs": [],
   "source": []
  }
 ]
}