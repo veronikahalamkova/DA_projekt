{
 "metadata": {
  "language_info": {
   "codemirror_mode": {
    "name": "ipython",
    "version": 3
   },
   "file_extension": ".py",
   "mimetype": "text/x-python",
   "name": "python",
   "nbconvert_exporter": "python",
   "pygments_lexer": "ipython3",
   "version": "3.8.3-final"
  },
  "orig_nbformat": 2,
  "kernelspec": {
   "name": "Python 3.8.3 64-bit ('base': conda)",
   "display_name": "Python 3.8.3 64-bit ('base': conda)",
   "metadata": {
    "interpreter": {
     "hash": "ff3bec3ee4e890881c11c70cbfcbf0d5bec93f6c450ae473e4117372eb11d1ea"
    }
   }
  }
 },
 "nbformat": 4,
 "nbformat_minor": 2,
 "cells": [
  {
   "cell_type": "code",
   "execution_count": 2,
   "metadata": {},
   "outputs": [],
   "source": [
    "import pandas as pd\n",
    "import traceback\n",
    "import numpy as np\n",
    "import os\n",
    "import glob\n"
   ]
  },
  {
   "cell_type": "code",
   "execution_count": 3,
   "metadata": {},
   "outputs": [],
   "source": [
    "dow_file = os.path.join(\"output\",\"dow\", \"AAPL_2019-01-02_2020-09-30.csv\")\n",
    "df = pd.read_csv(dow_file)"
   ]
  },
  {
   "cell_type": "code",
   "execution_count": 4,
   "metadata": {},
   "outputs": [
    {
     "output_type": "execute_result",
     "data": {
      "text/plain": [
       "   Unnamed: 0       open       high        low      close   adjclose  \\\n",
       "0  2019-01-02  38.722500  39.712502  38.557499  39.480000  38.629097   \n",
       "1  2019-01-03  35.994999  36.430000  35.500000  35.547501  34.781353   \n",
       "2  2019-01-04  36.132500  37.137501  35.950001  37.064999  36.266144   \n",
       "3  2019-01-07  37.174999  37.207500  36.474998  36.982498  36.185429   \n",
       "4  2019-01-08  37.389999  37.955002  37.130001  37.687500  36.875229   \n",
       "\n",
       "      volume ticker  \n",
       "0  148158800   AAPL  \n",
       "1  365248800   AAPL  \n",
       "2  234428400   AAPL  \n",
       "3  219111200   AAPL  \n",
       "4  164101200   AAPL  "
      ],
      "text/html": "<div>\n<style scoped>\n    .dataframe tbody tr th:only-of-type {\n        vertical-align: middle;\n    }\n\n    .dataframe tbody tr th {\n        vertical-align: top;\n    }\n\n    .dataframe thead th {\n        text-align: right;\n    }\n</style>\n<table border=\"1\" class=\"dataframe\">\n  <thead>\n    <tr style=\"text-align: right;\">\n      <th></th>\n      <th>Unnamed: 0</th>\n      <th>open</th>\n      <th>high</th>\n      <th>low</th>\n      <th>close</th>\n      <th>adjclose</th>\n      <th>volume</th>\n      <th>ticker</th>\n    </tr>\n  </thead>\n  <tbody>\n    <tr>\n      <th>0</th>\n      <td>2019-01-02</td>\n      <td>38.722500</td>\n      <td>39.712502</td>\n      <td>38.557499</td>\n      <td>39.480000</td>\n      <td>38.629097</td>\n      <td>148158800</td>\n      <td>AAPL</td>\n    </tr>\n    <tr>\n      <th>1</th>\n      <td>2019-01-03</td>\n      <td>35.994999</td>\n      <td>36.430000</td>\n      <td>35.500000</td>\n      <td>35.547501</td>\n      <td>34.781353</td>\n      <td>365248800</td>\n      <td>AAPL</td>\n    </tr>\n    <tr>\n      <th>2</th>\n      <td>2019-01-04</td>\n      <td>36.132500</td>\n      <td>37.137501</td>\n      <td>35.950001</td>\n      <td>37.064999</td>\n      <td>36.266144</td>\n      <td>234428400</td>\n      <td>AAPL</td>\n    </tr>\n    <tr>\n      <th>3</th>\n      <td>2019-01-07</td>\n      <td>37.174999</td>\n      <td>37.207500</td>\n      <td>36.474998</td>\n      <td>36.982498</td>\n      <td>36.185429</td>\n      <td>219111200</td>\n      <td>AAPL</td>\n    </tr>\n    <tr>\n      <th>4</th>\n      <td>2019-01-08</td>\n      <td>37.389999</td>\n      <td>37.955002</td>\n      <td>37.130001</td>\n      <td>37.687500</td>\n      <td>36.875229</td>\n      <td>164101200</td>\n      <td>AAPL</td>\n    </tr>\n  </tbody>\n</table>\n</div>"
     },
     "metadata": {},
     "execution_count": 4
    }
   ],
   "source": [
    "df.head()"
   ]
  },
  {
   "cell_type": "code",
   "execution_count": null,
   "metadata": {},
   "outputs": [],
   "source": []
  }
 ]
}